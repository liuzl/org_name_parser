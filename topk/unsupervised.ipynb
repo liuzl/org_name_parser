{
 "cells": [
  {
   "cell_type": "code",
   "execution_count": 1,
   "metadata": {
    "collapsed": true
   },
   "outputs": [],
   "source": [
    "import pandas as pd\n",
    "import numpy as np\n",
    "import pygtrie as trie\n",
    "from collections import defaultdict\n",
    "from scipy.stats import entropy"
   ]
  },
  {
   "cell_type": "code",
   "execution_count": 2,
   "metadata": {
    "collapsed": true
   },
   "outputs": [],
   "source": [
    "df = pd.read_csv(\"output_suffix.txt\", sep=' ', header=None, names=[\"word\",\"cnt\",\"err\"])"
   ]
  },
  {
   "cell_type": "code",
   "execution_count": 3,
   "metadata": {
    "collapsed": true
   },
   "outputs": [],
   "source": [
    "m = {} # 存储每个候选词的词频\n",
    "m2 = defaultdict(lambda: defaultdict(int)) # 存储每个候选词的前缀字集合\n",
    "for index, row in df.iterrows():\n",
    "    m[row['word']] = row['cnt']\n",
    "    if len(row['word']) == 1: continue # 单字词没有前缀字，无需计算\n",
    "    key = row['word'][1:]\n",
    "    prefix = row['word'][:1]\n",
    "    m2[key][prefix] += row['cnt']"
   ]
  },
  {
   "cell_type": "markdown",
   "metadata": {},
   "source": [
    "### 计算聚合度，聚合度定义为当前串频次与其后缀串频次的比值"
   ]
  },
  {
   "cell_type": "code",
   "execution_count": 4,
   "metadata": {
    "collapsed": true
   },
   "outputs": [],
   "source": [
    "def poly(x):\n",
    "    if len(x['word']) == 1 or x['word'][1:] not in m: return 1 # 单字聚合度为1\n",
    "    return x['cnt']/m[x['word'][1:]]"
   ]
  },
  {
   "cell_type": "markdown",
   "metadata": {},
   "source": [
    "### 计算灵活度，灵活度定义为前缀字集合的信息熵"
   ]
  },
  {
   "cell_type": "code",
   "execution_count": 5,
   "metadata": {
    "collapsed": true
   },
   "outputs": [],
   "source": [
    "def flex(x):\n",
    "    if x['word'] not in m2: return 1\n",
    "    s = pd.Series(m2[x['word']])\n",
    "    return entropy(s / s.sum())"
   ]
  },
  {
   "cell_type": "code",
   "execution_count": 6,
   "metadata": {
    "collapsed": true
   },
   "outputs": [],
   "source": [
    "df['poly'] = df.apply(poly, axis=1)\n",
    "df['flex'] = df.apply(flex, axis=1)"
   ]
  },
  {
   "cell_type": "code",
   "execution_count": 7,
   "metadata": {
    "collapsed": true
   },
   "outputs": [],
   "source": [
    "df['score'] = df.apply(lambda x: x['flex']*x['poly'], axis=1)"
   ]
  },
  {
   "cell_type": "code",
   "execution_count": 8,
   "metadata": {
    "collapsed": true
   },
   "outputs": [],
   "source": [
    "d1 = df[(df['score']>1) & (df['err']==0)].sort_values(['score'], ascending=False)"
   ]
  },
  {
   "cell_type": "code",
   "execution_count": 9,
   "metadata": {},
   "outputs": [
    {
     "data": {
      "text/html": [
       "<div>\n",
       "<style>\n",
       "    .dataframe thead tr:only-child th {\n",
       "        text-align: right;\n",
       "    }\n",
       "\n",
       "    .dataframe thead th {\n",
       "        text-align: left;\n",
       "    }\n",
       "\n",
       "    .dataframe tbody tr th {\n",
       "        vertical-align: top;\n",
       "    }\n",
       "</style>\n",
       "<table border=\"1\" class=\"dataframe\">\n",
       "  <thead>\n",
       "    <tr style=\"text-align: right;\">\n",
       "      <th></th>\n",
       "      <th>word</th>\n",
       "      <th>cnt</th>\n",
       "      <th>err</th>\n",
       "      <th>poly</th>\n",
       "      <th>flex</th>\n",
       "      <th>score</th>\n",
       "    </tr>\n",
       "  </thead>\n",
       "  <tbody>\n",
       "    <tr>\n",
       "      <th>13</th>\n",
       "      <td>贸易有限公司</td>\n",
       "      <td>33950</td>\n",
       "      <td>0</td>\n",
       "      <td>0.994755</td>\n",
       "      <td>4.483247</td>\n",
       "      <td>4.459734</td>\n",
       "    </tr>\n",
       "    <tr>\n",
       "      <th>8</th>\n",
       "      <td>科技有限公司</td>\n",
       "      <td>42085</td>\n",
       "      <td>0</td>\n",
       "      <td>0.999976</td>\n",
       "      <td>3.852677</td>\n",
       "      <td>3.852585</td>\n",
       "    </tr>\n",
       "    <tr>\n",
       "      <th>3</th>\n",
       "      <td>有限公司</td>\n",
       "      <td>466750</td>\n",
       "      <td>0</td>\n",
       "      <td>0.999989</td>\n",
       "      <td>3.840546</td>\n",
       "      <td>3.840505</td>\n",
       "    </tr>\n",
       "    <tr>\n",
       "      <th>4</th>\n",
       "      <td>店</td>\n",
       "      <td>124101</td>\n",
       "      <td>0</td>\n",
       "      <td>1.000000</td>\n",
       "      <td>3.716920</td>\n",
       "      <td>3.716920</td>\n",
       "    </tr>\n",
       "    <tr>\n",
       "      <th>6</th>\n",
       "      <td>厂</td>\n",
       "      <td>62011</td>\n",
       "      <td>0</td>\n",
       "      <td>1.000000</td>\n",
       "      <td>3.690329</td>\n",
       "      <td>3.690329</td>\n",
       "    </tr>\n",
       "  </tbody>\n",
       "</table>\n",
       "</div>"
      ],
      "text/plain": [
       "      word     cnt  err      poly      flex     score\n",
       "13  贸易有限公司   33950    0  0.994755  4.483247  4.459734\n",
       "8   科技有限公司   42085    0  0.999976  3.852677  3.852585\n",
       "3     有限公司  466750    0  0.999989  3.840546  3.840505\n",
       "4        店  124101    0  1.000000  3.716920  3.716920\n",
       "6        厂   62011    0  1.000000  3.690329  3.690329"
      ]
     },
     "execution_count": 9,
     "metadata": {},
     "output_type": "execute_result"
    }
   ],
   "source": [
    "d1.head()"
   ]
  },
  {
   "cell_type": "code",
   "execution_count": 10,
   "metadata": {
    "collapsed": true
   },
   "outputs": [],
   "source": [
    "t = trie.CharTrie()\n",
    "for _, row in d1.iterrows():\n",
    "    t[row['word'][::-1]] = row"
   ]
  },
  {
   "cell_type": "code",
   "execution_count": 11,
   "metadata": {
    "collapsed": true
   },
   "outputs": [],
   "source": [
    "xm2 = defaultdict(lambda: defaultdict(int)) # 存储每个候选词的前缀集合\n",
    "for _, row in d1.iterrows():\n",
    "    rword = row['word'][::-1]\n",
    "    ret = t.prefixes(rword)\n",
    "    parent = None\n",
    "    maxlen = -1\n",
    "    for k, v in ret:\n",
    "        if k == rword: continue\n",
    "        if len(k) > maxlen:\n",
    "            maxlen = len(k)\n",
    "            parent = k[::-1]\n",
    "    if parent is not None:\n",
    "        xm2[parent][row['word']] += row['cnt']"
   ]
  },
  {
   "cell_type": "code",
   "execution_count": 12,
   "metadata": {
    "collapsed": true
   },
   "outputs": [],
   "source": [
    "xdf = d1[d1['word'].isin(xm2)]"
   ]
  },
  {
   "cell_type": "code",
   "execution_count": 13,
   "metadata": {
    "collapsed": true
   },
   "outputs": [],
   "source": [
    "def xflex(x):\n",
    "    if x['word'] not in xm2: return 1\n",
    "    s = pd.Series(xm2[x['word']])\n",
    "    return entropy(s / s.sum())"
   ]
  },
  {
   "cell_type": "code",
   "execution_count": 14,
   "metadata": {
    "collapsed": true
   },
   "outputs": [],
   "source": [
    "pd.options.mode.chained_assignment = None  # default='warn', SettingWithCopyWarning\n",
    "xdf['xflex'] = xdf.apply(xflex, axis=1)"
   ]
  },
  {
   "cell_type": "code",
   "execution_count": 15,
   "metadata": {
    "collapsed": true
   },
   "outputs": [],
   "source": [
    "company_type = set([\n",
    "    \"有限公司\",\n",
    "    \"有限责任公司\",\n",
    "    \"店\",\n",
    "    \"厂\",\n",
    "    \"经营部\",\n",
    "    \"专业合作社\",\n",
    "])"
   ]
  },
  {
   "cell_type": "code",
   "execution_count": 16,
   "metadata": {
    "collapsed": true
   },
   "outputs": [],
   "source": [
    "gtrie = trie.CharTrie()\n",
    "for word in company_type:\n",
    "    gtrie[word[::-1]] = word"
   ]
  },
  {
   "cell_type": "code",
   "execution_count": 17,
   "metadata": {
    "collapsed": true
   },
   "outputs": [],
   "source": [
    "scope = defaultdict(lambda: set())\n",
    "for _, row in d1.iterrows():\n",
    "    word = row['word'][::-1]\n",
    "    key, _ = gtrie.longest_prefix(word)\n",
    "    if key is not None:\n",
    "        if key == word: continue\n",
    "        #print(key[::-1], row['word'].rstrip(key[::-1]))\n",
    "        scope[row['word'].rstrip(key[::-1])].add(key[::-1])"
   ]
  },
  {
   "cell_type": "code",
   "execution_count": 18,
   "metadata": {},
   "outputs": [
    {
     "data": {
      "text/plain": [
       "defaultdict(<function __main__.<lambda>>,\n",
       "            {'(上海)': {'有限公司'},\n",
       "             '(北京)': {'有限公司'},\n",
       "             '(深圳)': {'有限公司'},\n",
       "             '企业管理咨询': {'有限公司'},\n",
       "             '信息咨询': {'有限公司'},\n",
       "             '信息技术': {'有限公司'},\n",
       "             '信息科技': {'有限公司'},\n",
       "             '养殖': {'专业合作社'},\n",
       "             '养殖农民': {'专业合作社'},\n",
       "             '农民': {'专业合作社'},\n",
       "             '制品': {'厂'},\n",
       "             '制衣': {'厂'},\n",
       "             '制造': {'有限公司'},\n",
       "             '加工': {'厂', '店'},\n",
       "             '化工': {'有限公司'},\n",
       "             '发展': {'有限公司', '有限责任公司'},\n",
       "             '咨询': {'有限公司'},\n",
       "             '咨询服务': {'有限公司'},\n",
       "             '商贸': {'有限公司'},\n",
       "             '安装工程': {'有限公司'},\n",
       "             '实业': {'有限公司'},\n",
       "             '工程': {'有限公司'},\n",
       "             '广告': {'有限公司'},\n",
       "             '建材': {'有限公司'},\n",
       "             '建筑工程': {'有限公司'},\n",
       "             '建筑材料': {'有限公司'},\n",
       "             '建设': {'有限公司'},\n",
       "             '开发': {'有限公司'},\n",
       "             '房地产开发': {'有限公司'},\n",
       "             '技术': {'有限公司'},\n",
       "             '投资': {'有限公司'},\n",
       "             '投资咨询': {'有限公司'},\n",
       "             '投资管理': {'有限公司'},\n",
       "             '文化传播': {'有限公司'},\n",
       "             '服务': {'有限公司'},\n",
       "             '服装': {'店'},\n",
       "             '机械': {'厂', '有限公司'},\n",
       "             '机电设备': {'有限公司'},\n",
       "             '材料': {'有限公司'},\n",
       "             '物业管理': {'有限公司'},\n",
       "             '物流': {'有限公司'},\n",
       "             '理发': {'店'},\n",
       "             '生物科技': {'有限公司'},\n",
       "             '电器': {'有限公司'},\n",
       "             '电子': {'有限公司'},\n",
       "             '电子商务': {'有限公司'},\n",
       "             '电子科技': {'有限公司'},\n",
       "             '百货': {'店'},\n",
       "             '种植': {'专业合作社'},\n",
       "             '科技': {'有限公司'},\n",
       "             '科技发展': {'有限公司'},\n",
       "             '科技开发': {'有限公司'},\n",
       "             '租赁': {'有限公司'},\n",
       "             '策划': {'有限公司'},\n",
       "             '管理': {'有限公司'},\n",
       "             '维修': {'店'},\n",
       "             '网络科技': {'有限公司'},\n",
       "             '装饰工程': {'有限公司'},\n",
       "             '设备': {'厂', '有限公司', '经营部'},\n",
       "             '设计': {'有限公司'},\n",
       "             '贸易': {'有限公司', '有限责任公司'},\n",
       "             '运输': {'有限公司'},\n",
       "             '连锁': {'店'},\n",
       "             '配件': {'店', '经营部'},\n",
       "             '金属材料': {'有限公司'},\n",
       "             '销售': {'有限公司'},\n",
       "             '集团': {'有限公司'},\n",
       "             '顾问': {'有限公司'}})"
      ]
     },
     "execution_count": 18,
     "metadata": {},
     "output_type": "execute_result"
    }
   ],
   "source": [
    "scope"
   ]
  },
  {
   "cell_type": "code",
   "execution_count": null,
   "metadata": {
    "collapsed": true
   },
   "outputs": [],
   "source": []
  }
 ],
 "metadata": {
  "kernelspec": {
   "display_name": "Python 3",
   "language": "python",
   "name": "python3"
  },
  "language_info": {
   "codemirror_mode": {
    "name": "ipython",
    "version": 3
   },
   "file_extension": ".py",
   "mimetype": "text/x-python",
   "name": "python",
   "nbconvert_exporter": "python",
   "pygments_lexer": "ipython3",
   "version": "3.6.3"
  }
 },
 "nbformat": 4,
 "nbformat_minor": 2
}
