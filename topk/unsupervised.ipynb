{
 "cells": [
  {
   "cell_type": "code",
   "execution_count": 1,
   "metadata": {},
   "outputs": [],
   "source": [
    "import pandas as pd\n",
    "import numpy as np\n",
    "import pygtrie as trie"
   ]
  },
  {
   "cell_type": "code",
   "execution_count": 2,
   "metadata": {},
   "outputs": [],
   "source": [
    "df = pd.read_csv(\"output_suffix.txt\",sep=' ',header=None, names=[\"word\",\"cnt\",\"err\"])"
   ]
  },
  {
   "cell_type": "code",
   "execution_count": 3,
   "metadata": {},
   "outputs": [],
   "source": [
    "m = {} # 存储每个候选词的词频\n",
    "m2 = {} # 存储每个候选词的前缀字集合\n",
    "for index, row in df.iterrows():\n",
    "    m[row['word']] = row['cnt']\n",
    "    if len(row['word']) == 1: continue # 单字词没有前缀字，无需计算\n",
    "    key = row['word'][1:]\n",
    "    if key not in m2:\n",
    "        m2[key] = set([row['word'][:1]])\n",
    "    else:\n",
    "        m2[key].add(row['word'][:1])"
   ]
  },
  {
   "cell_type": "code",
   "execution_count": 4,
   "metadata": {},
   "outputs": [],
   "source": [
    "def poly(x): # 计算聚合度\n",
    "    if len(x['word']) == 1 or x['word'][1:] not in m: return 1 # 单字聚合度为1\n",
    "    return x['cnt']/m[x['word'][1:]]"
   ]
  },
  {
   "cell_type": "code",
   "execution_count": 5,
   "metadata": {},
   "outputs": [],
   "source": [
    "def flex(x): # 计算灵活度，灵活度定义为前缀字的个数\n",
    "    if x['word'] not in m2: return 1\n",
    "    return len(m2[x['word']])"
   ]
  },
  {
   "cell_type": "code",
   "execution_count": 6,
   "metadata": {},
   "outputs": [],
   "source": [
    "df['poly'] = df.apply(poly, axis=1)\n",
    "df['flex'] = df.apply(flex, axis=1)\n",
    "#total_cnt = df['cnt'].sum()\n",
    "#df['freq'] = df['cnt'].apply(lambda x: x / total_cnt)"
   ]
  },
  {
   "cell_type": "code",
   "execution_count": 7,
   "metadata": {},
   "outputs": [],
   "source": [
    "df['score'] = df.apply(lambda x: x['flex']*x['poly'], axis=1)"
   ]
  },
  {
   "cell_type": "code",
   "execution_count": 8,
   "metadata": {},
   "outputs": [],
   "source": [
    "d1 = df[df['score']>1].sort_values(['score'], ascending=False)"
   ]
  },
  {
   "cell_type": "code",
   "execution_count": 15,
   "metadata": {},
   "outputs": [],
   "source": [
    "t = trie.CharTrie()\n",
    "for _, row in d1.iterrows():\n",
    "    t[row['word'][::-1]] = row"
   ]
  },
  {
   "cell_type": "code",
   "execution_count": 26,
   "metadata": {},
   "outputs": [
    {
     "name": "stdout",
     "output_type": "stream",
     "text": [
      "公司 有限公司\n",
      "地产开发有限公司 房地产开发有限公司\n",
      "有限公司 科技有限公司\n",
      "公司 有限责任公司\n",
      "有限公司 贸易有限公司\n",
      "有限公司 集团有限公司\n",
      "有限公司 工程有限公司\n",
      "有限公司 股份有限公司\n",
      "有限公司 服饰有限公司\n",
      "有限公司 机械有限公司\n",
      "有限公司 商贸有限公司\n",
      "工程有限公司 建设工程有限公司\n",
      "工程有限公司 建筑工程有限公司\n",
      "有限公司 设备有限公司\n",
      "有限公司 发展有限公司\n",
      "有限公司 制造有限公司\n",
      "集团有限公司 建设集团有限公司\n",
      "有限公司 建设有限公司\n",
      "业有限公司 置业有限公司\n",
      "有限公司 开发有限公司\n",
      "业有限公司 实业有限公司\n",
      "有限公司 物流有限公司\n",
      "有限公司 投资有限公司\n",
      "有限公司 担保有限公司\n",
      "有限公司 纺织有限公司\n",
      "有限公司 电子有限公司\n",
      "有限公司 服务有限公司\n",
      "有限公司 工贸有限公司\n",
      "制造有限公司 机械制造有限公司\n",
      "有限公司 管理有限公司\n",
      "有限公司 材料有限公司\n",
      "矿 煤矿\n",
      "有限公司 化工有限公司\n",
      "管理有限公司 投资管理有限公司\n",
      "有限公司 建材有限公司\n",
      "有限公司 制品有限公司\n",
      "资担保有限公司 融资担保有限公司\n",
      "开发有限责任公司 房地产开发有限责任公司\n",
      "工程有限公司 装饰工程有限公司\n",
      "资担保有限公司 投资担保有限公司\n",
      "有限公司 技术有限公司\n",
      "有限公司 食品有限公司\n",
      "有限公司 运输有限公司\n",
      "有限公司 房地产有限公司\n",
      "股份有限公司 科技股份有限公司\n",
      "发展有限公司 科技发展有限公司\n",
      "服务有限公司 汽车销售服务有限公司\n",
      "有限公司 业有限公司\n",
      "合作社 专业合作社\n",
      "有限公司 咨询有限公司\n",
      "有限公司 销售有限公司\n",
      "贸易有限公司 汽车贸易有限公司\n",
      "有限公司 钢铁有限公司\n",
      "有限公司 玻璃有限公司\n",
      "有限公司 混凝土有限公司\n",
      "有限公司 建筑劳务有限公司\n",
      "有限责任公司 开发有限责任公司\n",
      "有限公司 (集团)有限公司\n",
      "有限责任公司 集团有限责任公司\n",
      "安装工程有限公司 建筑安装工程有限公司\n",
      "运输有限公司 汽车运输有限公司\n",
      "有限责任公司 科技有限责任公司\n",
      "担保股份有限公司 融资担保股份有限公司\n",
      "有限公司 酒店有限公司\n",
      "有限公司 制衣有限公司\n",
      "院 医院\n",
      "厂 制品厂\n",
      "经纪有限公司 房地产经纪有限公司\n",
      "有限责任公司 工程有限责任公司\n",
      "建材有限公司 新型建材有限公司\n",
      "设备有限公司 机械设备有限公司\n",
      "工程公司 建筑工程公司\n",
      "贸易有限公司 国际贸易有限公司\n",
      "发展有限公司 投资发展有限公司\n",
      "有限公司 轴承有限公司\n",
      "管理有限公司 酒店管理有限公司\n",
      "工程有限公司 安装工程有限公司\n",
      "民委员会 村民委员会\n",
      "厂 加工厂\n",
      "有限公司 电器有限公司\n",
      "制造有限公司 设备制造有限公司\n",
      "管理有限公司 经营管理有限公司\n",
      "工程集团有限公司 建设工程集团有限公司\n",
      "有限责任公司 建设有限责任公司\n",
      "有限公司 顾问有限公司\n",
      "有限公司 (北京)有限公司\n",
      "制品有限公司 金属制品有限公司\n",
      "部 经营部\n",
      "有限责任公司 贸易有限责任公司\n",
      "有限公司 进出口有限公司\n",
      "有限公司 租赁有限公司\n"
     ]
    }
   ],
   "source": [
    "i = 0\n",
    "for _, row in d1.iterrows():\n",
    "    rword = row['word'][::-1]\n",
    "    ret = t.prefixes(rword)\n",
    "    parent = None\n",
    "    maxlen = -1\n",
    "    for k, v in ret:\n",
    "        if k == rword: continue\n",
    "        if len(k) > maxlen:\n",
    "            maxlen = len(k)\n",
    "            parent = k[::-1]\n",
    "    if parent is not None:\n",
    "        print(parent, row['word'])\n",
    "    i += 1\n",
    "    if i >= 100: break"
   ]
  },
  {
   "cell_type": "code",
   "execution_count": null,
   "metadata": {},
   "outputs": [],
   "source": []
  }
 ],
 "metadata": {
  "kernelspec": {
   "display_name": "Python 3",
   "language": "python",
   "name": "python3"
  },
  "language_info": {
   "codemirror_mode": {
    "name": "ipython",
    "version": 3
   },
   "file_extension": ".py",
   "mimetype": "text/x-python",
   "name": "python",
   "nbconvert_exporter": "python",
   "pygments_lexer": "ipython3",
   "version": "3.6.5"
  }
 },
 "nbformat": 4,
 "nbformat_minor": 2
}
