{
 "cells": [
  {
   "cell_type": "code",
   "execution_count": 1,
   "metadata": {},
   "outputs": [],
   "source": [
    "import pandas as pd\n",
    "import numpy as np\n",
    "import pygtrie as trie\n",
    "from collections import defaultdict\n",
    "from scipy.stats import entropy"
   ]
  },
  {
   "cell_type": "code",
   "execution_count": 2,
   "metadata": {},
   "outputs": [],
   "source": [
    "df = pd.read_csv(\"output_suffix.txt\", sep=' ', header=None, names=[\"word\",\"cnt\",\"err\"])"
   ]
  },
  {
   "cell_type": "code",
   "execution_count": 3,
   "metadata": {},
   "outputs": [],
   "source": [
    "m = {} # 存储每个候选词的词频\n",
    "m2 = defaultdict(lambda: defaultdict(int)) # 存储每个候选词的前缀字集合\n",
    "for index, row in df.iterrows():\n",
    "    m[row['word']] = row['cnt']\n",
    "    if len(row['word']) == 1: continue # 单字词没有前缀字，无需计算\n",
    "    key = row['word'][1:]\n",
    "    prefix = row['word'][:1]\n",
    "    m2[key][prefix] += row['cnt']"
   ]
  },
  {
   "cell_type": "markdown",
   "metadata": {},
   "source": [
    "### 计算聚合度，聚合度定义为当前串频次与其后缀串频次的比值"
   ]
  },
  {
   "cell_type": "code",
   "execution_count": 4,
   "metadata": {},
   "outputs": [],
   "source": [
    "def poly(x):\n",
    "    if len(x['word']) == 1 or x['word'][1:] not in m: return 1 # 单字聚合度为1\n",
    "    return x['cnt']/m[x['word'][1:]]"
   ]
  },
  {
   "cell_type": "markdown",
   "metadata": {},
   "source": [
    "### 计算灵活度，灵活度定义为前缀字集合的信息熵"
   ]
  },
  {
   "cell_type": "code",
   "execution_count": 5,
   "metadata": {},
   "outputs": [],
   "source": [
    "def flex(x):\n",
    "    if x['word'] not in m2: return 1\n",
    "    s = pd.Series(m2[x['word']])\n",
    "    return entropy(s / s.sum())"
   ]
  },
  {
   "cell_type": "code",
   "execution_count": 6,
   "metadata": {},
   "outputs": [],
   "source": [
    "df['poly'] = df.apply(poly, axis=1)\n",
    "df['flex'] = df.apply(flex, axis=1)"
   ]
  },
  {
   "cell_type": "code",
   "execution_count": 7,
   "metadata": {},
   "outputs": [],
   "source": [
    "df['score'] = df.apply(lambda x: x['flex']*x['poly'], axis=1)"
   ]
  },
  {
   "cell_type": "code",
   "execution_count": 8,
   "metadata": {},
   "outputs": [],
   "source": [
    "d1 = df[(df['score']>1) & (df['err']==0)].sort_values(['score'], ascending=False)"
   ]
  },
  {
   "cell_type": "code",
   "execution_count": 9,
   "metadata": {},
   "outputs": [
    {
     "data": {
      "text/html": [
       "<div>\n",
       "<style scoped>\n",
       "    .dataframe tbody tr th:only-of-type {\n",
       "        vertical-align: middle;\n",
       "    }\n",
       "\n",
       "    .dataframe tbody tr th {\n",
       "        vertical-align: top;\n",
       "    }\n",
       "\n",
       "    .dataframe thead th {\n",
       "        text-align: right;\n",
       "    }\n",
       "</style>\n",
       "<table border=\"1\" class=\"dataframe\">\n",
       "  <thead>\n",
       "    <tr style=\"text-align: right;\">\n",
       "      <th></th>\n",
       "      <th>word</th>\n",
       "      <th>cnt</th>\n",
       "      <th>err</th>\n",
       "      <th>poly</th>\n",
       "      <th>flex</th>\n",
       "      <th>score</th>\n",
       "    </tr>\n",
       "  </thead>\n",
       "  <tbody>\n",
       "    <tr>\n",
       "      <th>13</th>\n",
       "      <td>贸易有限公司</td>\n",
       "      <td>33950</td>\n",
       "      <td>0</td>\n",
       "      <td>0.994755</td>\n",
       "      <td>4.483247</td>\n",
       "      <td>4.459734</td>\n",
       "    </tr>\n",
       "    <tr>\n",
       "      <th>8</th>\n",
       "      <td>科技有限公司</td>\n",
       "      <td>42085</td>\n",
       "      <td>0</td>\n",
       "      <td>0.999976</td>\n",
       "      <td>3.852677</td>\n",
       "      <td>3.852585</td>\n",
       "    </tr>\n",
       "    <tr>\n",
       "      <th>3</th>\n",
       "      <td>有限公司</td>\n",
       "      <td>466750</td>\n",
       "      <td>0</td>\n",
       "      <td>0.999989</td>\n",
       "      <td>3.840546</td>\n",
       "      <td>3.840505</td>\n",
       "    </tr>\n",
       "    <tr>\n",
       "      <th>4</th>\n",
       "      <td>店</td>\n",
       "      <td>124101</td>\n",
       "      <td>0</td>\n",
       "      <td>1.000000</td>\n",
       "      <td>3.716920</td>\n",
       "      <td>3.716920</td>\n",
       "    </tr>\n",
       "    <tr>\n",
       "      <th>6</th>\n",
       "      <td>厂</td>\n",
       "      <td>62011</td>\n",
       "      <td>0</td>\n",
       "      <td>1.000000</td>\n",
       "      <td>3.690329</td>\n",
       "      <td>3.690329</td>\n",
       "    </tr>\n",
       "  </tbody>\n",
       "</table>\n",
       "</div>"
      ],
      "text/plain": [
       "      word     cnt  err      poly      flex     score\n",
       "13  贸易有限公司   33950    0  0.994755  4.483247  4.459734\n",
       "8   科技有限公司   42085    0  0.999976  3.852677  3.852585\n",
       "3     有限公司  466750    0  0.999989  3.840546  3.840505\n",
       "4        店  124101    0  1.000000  3.716920  3.716920\n",
       "6        厂   62011    0  1.000000  3.690329  3.690329"
      ]
     },
     "execution_count": 9,
     "metadata": {},
     "output_type": "execute_result"
    }
   ],
   "source": [
    "d1.head()"
   ]
  },
  {
   "cell_type": "code",
   "execution_count": 10,
   "metadata": {},
   "outputs": [],
   "source": [
    "t = trie.CharTrie()\n",
    "for _, row in d1.iterrows():\n",
    "    t[row['word'][::-1]] = row"
   ]
  },
  {
   "cell_type": "code",
   "execution_count": 11,
   "metadata": {},
   "outputs": [],
   "source": [
    "xm2 = defaultdict(lambda: defaultdict(int)) # 存储每个候选词的前缀集合\n",
    "for _, row in d1.iterrows():\n",
    "    rword = row['word'][::-1]\n",
    "    ret = t.prefixes(rword)\n",
    "    parent = None\n",
    "    maxlen = -1\n",
    "    for k, v in ret:\n",
    "        if k == rword: continue\n",
    "        if len(k) > maxlen:\n",
    "            maxlen = len(k)\n",
    "            parent = k[::-1]\n",
    "    if parent is not None:\n",
    "        xm2[parent][row['word']] += row['cnt']"
   ]
  },
  {
   "cell_type": "code",
   "execution_count": 12,
   "metadata": {},
   "outputs": [],
   "source": [
    "xdf = d1[d1['word'].isin(xm2)]"
   ]
  },
  {
   "cell_type": "code",
   "execution_count": 13,
   "metadata": {},
   "outputs": [],
   "source": [
    "def xflex(x):\n",
    "    if x['word'] not in xm2: return 1\n",
    "    s = pd.Series(xm2[x['word']])\n",
    "    return entropy(s / s.sum())"
   ]
  },
  {
   "cell_type": "code",
   "execution_count": 14,
   "metadata": {},
   "outputs": [],
   "source": [
    "pd.options.mode.chained_assignment = None  # default='warn', SettingWithCopyWarning\n",
    "xdf['xflex'] = xdf.apply(xflex, axis=1)"
   ]
  },
  {
   "cell_type": "code",
   "execution_count": 15,
   "metadata": {},
   "outputs": [],
   "source": [
    "company_type = set([\n",
    "    \"有限公司\",\n",
    "    \"有限责任公司\",\n",
    "    \"店\",\n",
    "    \"厂\",\n",
    "    \"经营部\",\n",
    "    \"专业合作社\",\n",
    "])"
   ]
  },
  {
   "cell_type": "code",
   "execution_count": 16,
   "metadata": {},
   "outputs": [],
   "source": [
    "gtrie = trie.CharTrie()\n",
    "for word in company_type:\n",
    "    gtrie[word[::-1]] = word"
   ]
  },
  {
   "cell_type": "code",
   "execution_count": 17,
   "metadata": {},
   "outputs": [],
   "source": [
    "scope = defaultdict(lambda: set())\n",
    "types = set()\n",
    "for _, row in d1.iterrows():\n",
    "    word = row['word'][::-1]\n",
    "    key, _ = gtrie.longest_prefix(word)\n",
    "    if key is not None:\n",
    "        if key == word: continue\n",
    "        scope[row['word'].rstrip(key[::-1])].add(key[::-1])\n",
    "    else:\n",
    "        types.add(row['word'])                                         "
   ]
  },
  {
   "cell_type": "code",
   "execution_count": 18,
   "metadata": {},
   "outputs": [],
   "source": [
    "scope_list = [w for w in scope.keys() if w[0] != \"(\"]"
   ]
  },
  {
   "cell_type": "code",
   "execution_count": 19,
   "metadata": {},
   "outputs": [
    {
     "data": {
      "text/plain": [
       "['贸易',\n",
       " '科技',\n",
       " '商贸',\n",
       " '种植',\n",
       " '设备',\n",
       " '工程',\n",
       " '养殖',\n",
       " '物流',\n",
       " '服务',\n",
       " '投资管理',\n",
       " '广告',\n",
       " '房地产开发',\n",
       " '加工',\n",
       " '科技发展',\n",
       " '销售',\n",
       " '文化传播',\n",
       " '运输',\n",
       " '服装',\n",
       " '咨询',\n",
       " '设计',\n",
       " '电子',\n",
       " '投资咨询',\n",
       " '技术',\n",
       " '发展',\n",
       " '电子科技',\n",
       " '开发',\n",
       " '制造',\n",
       " '生物科技',\n",
       " '信息咨询',\n",
       " '机电设备',\n",
       " '集团',\n",
       " '投资',\n",
       " '装饰工程',\n",
       " '机械',\n",
       " '咨询服务',\n",
       " '材料',\n",
       " '配件',\n",
       " '百货',\n",
       " '金属材料',\n",
       " '建筑工程',\n",
       " '网络科技',\n",
       " '制品',\n",
       " '顾问',\n",
       " '建材',\n",
       " '养殖农民',\n",
       " '农民',\n",
       " '管理',\n",
       " '安装工程',\n",
       " '维修',\n",
       " '实业',\n",
       " '信息技术',\n",
       " '化工',\n",
       " '电器',\n",
       " '策划',\n",
       " '电子商务',\n",
       " '建筑材料',\n",
       " '信息科技',\n",
       " '建设',\n",
       " '企业管理咨询',\n",
       " '连锁',\n",
       " '科技开发',\n",
       " '理发',\n",
       " '物业管理',\n",
       " '制衣',\n",
       " '租赁']"
      ]
     },
     "execution_count": 19,
     "metadata": {},
     "output_type": "execute_result"
    }
   ],
   "source": [
    "scope_list"
   ]
  },
  {
   "cell_type": "code",
   "execution_count": 20,
   "metadata": {},
   "outputs": [],
   "source": [
    "type_list = [x for x in types | company_type]"
   ]
  },
  {
   "cell_type": "code",
   "execution_count": 21,
   "metadata": {},
   "outputs": [
    {
     "data": {
      "text/plain": [
       "['服务部',\n",
       " '种植场',\n",
       " '经销处',\n",
       " '网吧',\n",
       " '柜',\n",
       " '档',\n",
       " '工程公司',\n",
       " '维修部',\n",
       " '(吊销)',\n",
       " '销售部',\n",
       " '场',\n",
       " '服务中心',\n",
       " '专业合作社',\n",
       " '开发公司',\n",
       " '站',\n",
       " '部',\n",
       " '摊',\n",
       " '所',\n",
       " '(普通合伙)',\n",
       " '(微型企业)',\n",
       " '有限公司分公司',\n",
       " '中心',\n",
       " '行',\n",
       " '庄',\n",
       " '经营部',\n",
       " '家庭农场',\n",
       " '猪肉档',\n",
       " '处',\n",
       " '服务站',\n",
       " '加油站',\n",
       " '园',\n",
       " '营业厅',\n",
       " '厅',\n",
       " '营业部',\n",
       " '贸易部',\n",
       " '办事处',\n",
       " '厂',\n",
       " '屋',\n",
       " '室',\n",
       " '商行',\n",
       " '有限责任公司',\n",
       " '贸易商行',\n",
       " '服务公司',\n",
       " '门市',\n",
       " '门市部',\n",
       " '代表处',\n",
       " '有限公司',\n",
       " '工作室',\n",
       " '店',\n",
       " '馆',\n",
       " '养殖场',\n",
       " '院',\n",
       " '经销部']"
      ]
     },
     "execution_count": 21,
     "metadata": {},
     "output_type": "execute_result"
    }
   ],
   "source": [
    "type_list"
   ]
  },
  {
   "cell_type": "code",
   "execution_count": 22,
   "metadata": {},
   "outputs": [
    {
     "data": {
      "text/html": [
       "<div>\n",
       "<style scoped>\n",
       "    .dataframe tbody tr th:only-of-type {\n",
       "        vertical-align: middle;\n",
       "    }\n",
       "\n",
       "    .dataframe tbody tr th {\n",
       "        vertical-align: top;\n",
       "    }\n",
       "\n",
       "    .dataframe thead th {\n",
       "        text-align: right;\n",
       "    }\n",
       "</style>\n",
       "<table border=\"1\" class=\"dataframe\">\n",
       "  <thead>\n",
       "    <tr style=\"text-align: right;\">\n",
       "      <th></th>\n",
       "      <th>word</th>\n",
       "      <th>cnt</th>\n",
       "      <th>err</th>\n",
       "      <th>poly</th>\n",
       "      <th>flex</th>\n",
       "      <th>score</th>\n",
       "    </tr>\n",
       "  </thead>\n",
       "  <tbody>\n",
       "    <tr>\n",
       "      <th>777</th>\n",
       "      <td>(吊销)</td>\n",
       "      <td>552</td>\n",
       "      <td>0</td>\n",
       "      <td>0.786325</td>\n",
       "      <td>1.375065</td>\n",
       "      <td>1.081248</td>\n",
       "    </tr>\n",
       "  </tbody>\n",
       "</table>\n",
       "</div>"
      ],
      "text/plain": [
       "     word  cnt  err      poly      flex     score\n",
       "777  (吊销)  552    0  0.786325  1.375065  1.081248"
      ]
     },
     "execution_count": 22,
     "metadata": {},
     "output_type": "execute_result"
    }
   ],
   "source": [
    "df[df['word']=='(吊销)']"
   ]
  },
  {
   "cell_type": "code",
   "execution_count": null,
   "metadata": {},
   "outputs": [],
   "source": []
  }
 ],
 "metadata": {
  "kernelspec": {
   "display_name": "Python 3",
   "language": "python",
   "name": "python3"
  },
  "language_info": {
   "codemirror_mode": {
    "name": "ipython",
    "version": 3
   },
   "file_extension": ".py",
   "mimetype": "text/x-python",
   "name": "python",
   "nbconvert_exporter": "python",
   "pygments_lexer": "ipython3",
   "version": "3.6.5"
  }
 },
 "nbformat": 4,
 "nbformat_minor": 2
}
