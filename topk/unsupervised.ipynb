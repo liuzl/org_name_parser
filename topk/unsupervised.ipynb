{
 "cells": [
  {
   "cell_type": "code",
   "execution_count": 1,
   "metadata": {},
   "outputs": [],
   "source": [
    "import pandas as pd\n",
    "import numpy as np\n",
    "import pygtrie as trie\n",
    "from collections import defaultdict\n",
    "from scipy.stats import entropy"
   ]
  },
  {
   "cell_type": "code",
   "execution_count": 2,
   "metadata": {},
   "outputs": [],
   "source": [
    "df = pd.read_csv(\"output_suffix.txt\", sep=' ', header=None, names=[\"word\",\"cnt\",\"err\"])"
   ]
  },
  {
   "cell_type": "code",
   "execution_count": 3,
   "metadata": {},
   "outputs": [],
   "source": [
    "m = {} # 存储每个候选词的词频\n",
    "m2 = defaultdict(lambda: defaultdict(int)) # 存储每个候选词的前缀字集合\n",
    "for index, row in df.iterrows():\n",
    "    m[row['word']] = row['cnt']\n",
    "    if len(row['word']) == 1: continue # 单字词没有前缀字，无需计算\n",
    "    key = row['word'][1:]\n",
    "    prefix = row['word'][:1]\n",
    "    m2[key][prefix] += row['cnt']"
   ]
  },
  {
   "cell_type": "markdown",
   "metadata": {},
   "source": [
    "### 计算聚合度，聚合度定义为当前串频次与其后缀串频次的比值"
   ]
  },
  {
   "cell_type": "code",
   "execution_count": 4,
   "metadata": {},
   "outputs": [],
   "source": [
    "def poly(x):\n",
    "    if len(x['word']) == 1 or x['word'][1:] not in m: return 1 # 单字聚合度为1\n",
    "    return x['cnt']/m[x['word'][1:]]"
   ]
  },
  {
   "cell_type": "markdown",
   "metadata": {},
   "source": [
    "### 计算灵活度，灵活度定义为前缀字集合的信息熵"
   ]
  },
  {
   "cell_type": "code",
   "execution_count": 5,
   "metadata": {},
   "outputs": [],
   "source": [
    "def flex(x):\n",
    "    if x['word'] not in m2: return 1\n",
    "    s = pd.Series(m2[x['word']])\n",
    "    return entropy(s / s.sum())"
   ]
  },
  {
   "cell_type": "code",
   "execution_count": 6,
   "metadata": {},
   "outputs": [],
   "source": [
    "df['poly'] = df.apply(poly, axis=1)\n",
    "df['flex'] = df.apply(flex, axis=1)\n",
    "df['score'] = df.apply(lambda x: x['flex']*x['poly'], axis=1)"
   ]
  },
  {
   "cell_type": "code",
   "execution_count": 7,
   "metadata": {},
   "outputs": [],
   "source": [
    "d1 = df[(df['score']>1) & (df['err']/df['cnt']<0.5)].sort_values(['score'], ascending=False)"
   ]
  },
  {
   "cell_type": "code",
   "execution_count": 8,
   "metadata": {},
   "outputs": [
    {
     "data": {
      "text/html": [
       "<div>\n",
       "<style scoped>\n",
       "    .dataframe tbody tr th:only-of-type {\n",
       "        vertical-align: middle;\n",
       "    }\n",
       "\n",
       "    .dataframe tbody tr th {\n",
       "        vertical-align: top;\n",
       "    }\n",
       "\n",
       "    .dataframe thead th {\n",
       "        text-align: right;\n",
       "    }\n",
       "</style>\n",
       "<table border=\"1\" class=\"dataframe\">\n",
       "  <thead>\n",
       "    <tr style=\"text-align: right;\">\n",
       "      <th></th>\n",
       "      <th>word</th>\n",
       "      <th>cnt</th>\n",
       "      <th>err</th>\n",
       "      <th>poly</th>\n",
       "      <th>flex</th>\n",
       "      <th>score</th>\n",
       "    </tr>\n",
       "  </thead>\n",
       "  <tbody>\n",
       "    <tr>\n",
       "      <th>264</th>\n",
       "      <td>股份有限公司</td>\n",
       "      <td>1685</td>\n",
       "      <td>1</td>\n",
       "      <td>0.999407</td>\n",
       "      <td>1.300101</td>\n",
       "      <td>1.29933</td>\n",
       "    </tr>\n",
       "  </tbody>\n",
       "</table>\n",
       "</div>"
      ],
      "text/plain": [
       "       word   cnt  err      poly      flex    score\n",
       "264  股份有限公司  1685    1  0.999407  1.300101  1.29933"
      ]
     },
     "execution_count": 8,
     "metadata": {},
     "output_type": "execute_result"
    }
   ],
   "source": [
    "d1[d1['word']=='股份有限公司']"
   ]
  },
  {
   "cell_type": "code",
   "execution_count": 9,
   "metadata": {},
   "outputs": [],
   "source": [
    "t = trie.CharTrie()\n",
    "for _, row in d1.iterrows():\n",
    "    t[row['word'][::-1]] = row"
   ]
  },
  {
   "cell_type": "code",
   "execution_count": 10,
   "metadata": {},
   "outputs": [],
   "source": [
    "xm2 = defaultdict(lambda: defaultdict(int)) # 存储每个候选词的前缀集合\n",
    "for _, row in d1.iterrows():\n",
    "    rword = row['word'][::-1]\n",
    "    ret = t.prefixes(rword)\n",
    "    parent = None\n",
    "    maxlen = -1\n",
    "    for k, v in ret:\n",
    "        if k == rword: continue\n",
    "        if len(k) > maxlen:\n",
    "            maxlen = len(k)\n",
    "            parent = k[::-1]\n",
    "    if parent is not None:\n",
    "        xm2[parent][row['word']] += row['cnt']"
   ]
  },
  {
   "cell_type": "code",
   "execution_count": 11,
   "metadata": {},
   "outputs": [],
   "source": [
    "xdf = d1[d1['word'].isin(xm2)]"
   ]
  },
  {
   "cell_type": "code",
   "execution_count": 12,
   "metadata": {},
   "outputs": [],
   "source": [
    "def xflex(x):\n",
    "    if x['word'] not in xm2: return 1\n",
    "    s = pd.Series(xm2[x['word']])\n",
    "    return entropy(s / s.sum())"
   ]
  },
  {
   "cell_type": "code",
   "execution_count": 13,
   "metadata": {},
   "outputs": [],
   "source": [
    "pd.options.mode.chained_assignment = None  # default='warn', SettingWithCopyWarning\n",
    "xdf['xflex'] = xdf.apply(xflex, axis=1)"
   ]
  },
  {
   "cell_type": "code",
   "execution_count": 14,
   "metadata": {},
   "outputs": [],
   "source": [
    "xdf1 = xdf[xdf['xflex']>0.1]"
   ]
  },
  {
   "cell_type": "code",
   "execution_count": 15,
   "metadata": {},
   "outputs": [
    {
     "data": {
      "text/plain": [
       "1685"
      ]
     },
     "execution_count": 15,
     "metadata": {},
     "output_type": "execute_result"
    }
   ],
   "source": [
    "xm2['有限公司']['股份有限公司']"
   ]
  },
  {
   "cell_type": "code",
   "execution_count": 16,
   "metadata": {},
   "outputs": [
    {
     "data": {
      "text/plain": [
       "dict_keys(['有限公司', '部', '专业合作社', '管理有限公司', '开发有限公司', '厂', '发展有限公司', '中心', '店', '站', '咨询有限公司', '场', '科技有限公司', '行', '商行', '设备有限公司', '工程有限公司', '服务有限公司', '处', '所', '室', '材料有限公司', '农民专业合作社', '技术有限公司', '经营部', '(上海)有限公司', '服务中心', '有限责任公司', '队', '档', '制造有限公司', '厅', '发展公司', '工程队', '种植专业合作社', '投资有限公司', '制品厂', '设备厂', '设计有限公司', '养殖专业合作社', '设备经营部', '维修部', '工作室', '百货店'])"
      ]
     },
     "execution_count": 16,
     "metadata": {},
     "output_type": "execute_result"
    }
   ],
   "source": [
    "xm2.keys()"
   ]
  },
  {
   "cell_type": "code",
   "execution_count": 17,
   "metadata": {},
   "outputs": [
    {
     "data": {
      "text/plain": [
       "['店',\n",
       " '厂',\n",
       " '有限责任公司',\n",
       " '经营部',\n",
       " '中心',\n",
       " '专业合作社',\n",
       " '场',\n",
       " '站',\n",
       " '部',\n",
       " '处',\n",
       " '商行',\n",
       " '室',\n",
       " '农民专业合作社']"
      ]
     },
     "execution_count": 17,
     "metadata": {},
     "output_type": "execute_result"
    }
   ],
   "source": [
    "[row['word'] for _, row in xdf1.iterrows() if not row['word'].endswith('有限公司')]"
   ]
  },
  {
   "cell_type": "code",
   "execution_count": 18,
   "metadata": {},
   "outputs": [],
   "source": [
    "company_type = set([\n",
    "    \"有限公司\",\n",
    "    \"有限责任公司\",\n",
    "    \"店\",\n",
    "    \"厂\",\n",
    "    \"经营部\",\n",
    "    \"专业合作社\",\n",
    "])"
   ]
  },
  {
   "cell_type": "code",
   "execution_count": 19,
   "metadata": {},
   "outputs": [],
   "source": [
    "gtrie = trie.CharTrie()\n",
    "for word in company_type:\n",
    "    gtrie[word[::-1]] = word"
   ]
  },
  {
   "cell_type": "code",
   "execution_count": 20,
   "metadata": {},
   "outputs": [
    {
     "name": "stdout",
     "output_type": "stream",
     "text": [
      "word       股份有限公司\n",
      "cnt          1685\n",
      "err             1\n",
      "poly     0.999407\n",
      "flex       1.3001\n",
      "score     1.29933\n",
      "Name: 264, dtype: object 司公限有\n"
     ]
    }
   ],
   "source": [
    "scope = defaultdict(lambda: set())\n",
    "types = set()\n",
    "for _, row in d1.iterrows():\n",
    "    word = row['word'][::-1]\n",
    "    key, _ = gtrie.longest_prefix(word)\n",
    "    if row['word'] == '股份有限公司':\n",
    "        print(row, key)\n",
    "    if key is not None:\n",
    "        if key == word: continue\n",
    "        scope[row['word'].rstrip(key[::-1])].add(key[::-1])\n",
    "    else:\n",
    "        types.add(row['word'])                                         "
   ]
  },
  {
   "cell_type": "code",
   "execution_count": 21,
   "metadata": {},
   "outputs": [],
   "source": [
    "scope_list = [w for w in scope.keys() if w[0] != \"(\"]"
   ]
  },
  {
   "cell_type": "code",
   "execution_count": 22,
   "metadata": {},
   "outputs": [
    {
     "data": {
      "text/plain": [
       "['贸易',\n",
       " '科技',\n",
       " '商贸',\n",
       " '种植',\n",
       " '设备',\n",
       " '工程',\n",
       " '养殖',\n",
       " '物流',\n",
       " '服务',\n",
       " '投资管理',\n",
       " '广告',\n",
       " '房地产开发',\n",
       " '加工',\n",
       " '科技发展',\n",
       " '销售',\n",
       " '文化传播',\n",
       " '运输',\n",
       " '服装',\n",
       " '咨询',\n",
       " '设计',\n",
       " '电子',\n",
       " '投资咨询',\n",
       " '技术',\n",
       " '发展',\n",
       " '电子科技',\n",
       " '开发',\n",
       " '制造',\n",
       " '生物科技',\n",
       " '信息咨询',\n",
       " '机电设备',\n",
       " '集团',\n",
       " '投资',\n",
       " '装饰工程',\n",
       " '机械',\n",
       " '咨询服务',\n",
       " '材料',\n",
       " '配件',\n",
       " '百货',\n",
       " '金属材料',\n",
       " '建筑工程',\n",
       " '网络科技',\n",
       " '制品',\n",
       " '顾问',\n",
       " '建材',\n",
       " '养殖农民',\n",
       " '农民',\n",
       " '管理',\n",
       " '安装工程',\n",
       " '维修',\n",
       " '实业',\n",
       " '信息技术',\n",
       " '化妆品',\n",
       " '种植农民',\n",
       " '化工',\n",
       " '五金',\n",
       " '电器',\n",
       " '股份',\n",
       " '物业服务',\n",
       " '策划',\n",
       " '科技(上海)',\n",
       " '电子商务',\n",
       " '建筑材料',\n",
       " '信息科技',\n",
       " '建设',\n",
       " '教育咨询',\n",
       " '士多',\n",
       " '企业管理咨询',\n",
       " '连锁',\n",
       " '科技开发',\n",
       " '理发',\n",
       " '物业管理',\n",
       " '百货商',\n",
       " '设备制造',\n",
       " '制衣',\n",
       " '文化传媒',\n",
       " '设计制作',\n",
       " '加盟',\n",
       " '税务师事务所',\n",
       " '食用菌种植',\n",
       " '会议服务',\n",
       " '国际贸易(上海)',\n",
       " '自来水',\n",
       " '办公家具',\n",
       " '不锈钢',\n",
       " '建设投资',\n",
       " '不锈钢制品',\n",
       " '机械设备',\n",
       " '五金塑料',\n",
       " '租赁',\n",
       " '装饰工程设计',\n",
       " '食用菌',\n",
       " '网络工程',\n",
       " '种植养殖',\n",
       " '基础工程',\n",
       " '玻璃制品',\n",
       " '办公设备',\n",
       " '再生资源',\n",
       " '润滑油',\n",
       " '机械配件',\n",
       " '人力资源',\n",
       " '投资管理咨询',\n",
       " '广告装饰',\n",
       " '装饰材料',\n",
       " '农机服务',\n",
       " '日用百货']"
      ]
     },
     "execution_count": 22,
     "metadata": {},
     "output_type": "execute_result"
    }
   ],
   "source": [
    "scope_list"
   ]
  },
  {
   "cell_type": "code",
   "execution_count": 23,
   "metadata": {},
   "outputs": [],
   "source": [
    "type_list = [x for x in types | company_type]"
   ]
  },
  {
   "cell_type": "code",
   "execution_count": 24,
   "metadata": {},
   "outputs": [],
   "source": [
    "ext_list = [x.lstrip(\"有限公司\") for x in type_list if x.startswith(\"有限公司\") and x != \"有限公司\"]"
   ]
  },
  {
   "cell_type": "code",
   "execution_count": 25,
   "metadata": {},
   "outputs": [],
   "source": [
    "ext_list += [x for x in type_list if x[0]=='(']"
   ]
  },
  {
   "cell_type": "code",
   "execution_count": 26,
   "metadata": {},
   "outputs": [
    {
     "data": {
      "text/plain": [
       "['沈阳分公司',\n",
       " '杭州分公司',\n",
       " '大连分公司',\n",
       " '分公司',\n",
       " '成都分公司',\n",
       " '第一分公司',\n",
       " '深圳分公司',\n",
       " '(吊销)',\n",
       " '(微型企业)',\n",
       " '(普通合伙)']"
      ]
     },
     "execution_count": 26,
     "metadata": {},
     "output_type": "execute_result"
    }
   ],
   "source": [
    "ext_list"
   ]
  },
  {
   "cell_type": "code",
   "execution_count": 27,
   "metadata": {},
   "outputs": [],
   "source": [
    "real_type_list = [x for x in type_list if x != \".\" and x[0]!='(' and not (x.startswith(\"有限公司\") and x != \"有限公司\")]"
   ]
  },
  {
   "cell_type": "code",
   "execution_count": 28,
   "metadata": {},
   "outputs": [
    {
     "data": {
      "text/plain": [
       "['中心',\n",
       " '工作室',\n",
       " '门市部',\n",
       " '有限责任公司',\n",
       " '庄',\n",
       " '服务中心',\n",
       " '加油站',\n",
       " '回收站',\n",
       " '行',\n",
       " '办事处',\n",
       " '所',\n",
       " '家庭农场',\n",
       " '点',\n",
       " '园',\n",
       " '营业厅',\n",
       " '销售中心',\n",
       " '设计工作室',\n",
       " '门市',\n",
       " '种植场',\n",
       " '棋牌室',\n",
       " '门诊部',\n",
       " '城',\n",
       " '工程队',\n",
       " '部',\n",
       " '经营部',\n",
       " '室',\n",
       " '物资贸易公司',\n",
       " '供应站',\n",
       " '处',\n",
       " '网吧',\n",
       " '摊',\n",
       " '代表处',\n",
       " '专业合作社',\n",
       " '批发部',\n",
       " '维修部',\n",
       " '摩托车维修部',\n",
       " '经销处',\n",
       " '贸易部',\n",
       " '事务所',\n",
       " '厂',\n",
       " '屋',\n",
       " '服务站',\n",
       " '服务部',\n",
       " '营业部',\n",
       " '发展总公司',\n",
       " '站',\n",
       " '工程公司',\n",
       " '猪肉档',\n",
       " '服务公司',\n",
       " '有限公司',\n",
       " '库',\n",
       " '养殖场',\n",
       " '馆',\n",
       " '院',\n",
       " '柜',\n",
       " '发展公司',\n",
       " '信息咨询部',\n",
       " '队',\n",
       " '贸易商行',\n",
       " '厅',\n",
       " '咨询服务中心',\n",
       " '销售部',\n",
       " '商行',\n",
       " '经销部',\n",
       " '经济发展公司',\n",
       " '场',\n",
       " '建筑工程队',\n",
       " '档',\n",
       " '店',\n",
       " '皮革商行',\n",
       " '开发公司']"
      ]
     },
     "execution_count": 28,
     "metadata": {},
     "output_type": "execute_result"
    }
   ],
   "source": [
    "real_type_list"
   ]
  },
  {
   "cell_type": "code",
   "execution_count": 29,
   "metadata": {},
   "outputs": [],
   "source": [
    "pd.DataFrame(scope_list).to_csv(\"scope_list.txt\", index=False, header=False)\n",
    "pd.DataFrame(real_type_list).to_csv(\"real_type_list.txt\", index=False, header=False)\n",
    "pd.DataFrame(ext_list).to_csv(\"ext_list.txt\", index=False, header=False)"
   ]
  },
  {
   "cell_type": "code",
   "execution_count": null,
   "metadata": {},
   "outputs": [],
   "source": []
  }
 ],
 "metadata": {
  "kernelspec": {
   "display_name": "Python 3",
   "language": "python",
   "name": "python3"
  },
  "language_info": {
   "codemirror_mode": {
    "name": "ipython",
    "version": 3
   },
   "file_extension": ".py",
   "mimetype": "text/x-python",
   "name": "python",
   "nbconvert_exporter": "python",
   "pygments_lexer": "ipython3",
   "version": "3.6.5"
  }
 },
 "nbformat": 4,
 "nbformat_minor": 2
}
