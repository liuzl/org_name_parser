{
 "cells": [
  {
   "cell_type": "code",
   "execution_count": 1,
   "metadata": {},
   "outputs": [],
   "source": [
    "import pandas as pd\n",
    "import numpy as np\n",
    "import pygtrie as trie\n",
    "from collections import defaultdict\n",
    "from scipy.stats import entropy"
   ]
  },
  {
   "cell_type": "code",
   "execution_count": 2,
   "metadata": {},
   "outputs": [],
   "source": [
    "df = pd.read_csv(\"output_suffix.txt\", sep=' ', header=None, names=[\"word\",\"cnt\",\"err\"])"
   ]
  },
  {
   "cell_type": "code",
   "execution_count": 3,
   "metadata": {},
   "outputs": [],
   "source": [
    "m = {} # 存储每个候选词的词频\n",
    "m2 = defaultdict(lambda: defaultdict(int)) # 存储每个候选词的前缀字集合\n",
    "for index, row in df.iterrows():\n",
    "    m[row['word']] = row['cnt']\n",
    "    if len(row['word']) == 1: continue # 单字词没有前缀字，无需计算\n",
    "    key = row['word'][1:]\n",
    "    prefix = row['word'][:1]\n",
    "    m2[key][prefix] += row['cnt']"
   ]
  },
  {
   "cell_type": "markdown",
   "metadata": {},
   "source": [
    "### 计算聚合度，聚合度定义为当前串频次与其后缀串频次的比值"
   ]
  },
  {
   "cell_type": "code",
   "execution_count": 4,
   "metadata": {},
   "outputs": [],
   "source": [
    "def poly(x):\n",
    "    if len(x['word']) == 1 or x['word'][1:] not in m: return 1 # 单字聚合度为1\n",
    "    return x['cnt']/m[x['word'][1:]]"
   ]
  },
  {
   "cell_type": "markdown",
   "metadata": {},
   "source": [
    "### 计算灵活度，灵活度定义为前缀字集合的信息熵"
   ]
  },
  {
   "cell_type": "code",
   "execution_count": 5,
   "metadata": {},
   "outputs": [],
   "source": [
    "def flex(x):\n",
    "    if x['word'] not in m2: return 1\n",
    "    s = pd.Series(m2[x['word']])\n",
    "    return entropy(s / s.sum())"
   ]
  },
  {
   "cell_type": "code",
   "execution_count": 6,
   "metadata": {},
   "outputs": [],
   "source": [
    "df['poly'] = df.apply(poly, axis=1)\n",
    "df['flex'] = df.apply(flex, axis=1)"
   ]
  },
  {
   "cell_type": "code",
   "execution_count": 7,
   "metadata": {},
   "outputs": [],
   "source": [
    "df['score'] = df.apply(lambda x: x['flex']*x['poly'], axis=1)"
   ]
  },
  {
   "cell_type": "code",
   "execution_count": 8,
   "metadata": {},
   "outputs": [],
   "source": [
    "d1 = df[(df['score']>1) & (df['err']==0)].sort_values(['score'], ascending=False)"
   ]
  },
  {
   "cell_type": "code",
   "execution_count": 9,
   "metadata": {},
   "outputs": [
    {
     "data": {
      "text/html": [
       "<div>\n",
       "<style scoped>\n",
       "    .dataframe tbody tr th:only-of-type {\n",
       "        vertical-align: middle;\n",
       "    }\n",
       "\n",
       "    .dataframe tbody tr th {\n",
       "        vertical-align: top;\n",
       "    }\n",
       "\n",
       "    .dataframe thead th {\n",
       "        text-align: right;\n",
       "    }\n",
       "</style>\n",
       "<table border=\"1\" class=\"dataframe\">\n",
       "  <thead>\n",
       "    <tr style=\"text-align: right;\">\n",
       "      <th></th>\n",
       "      <th>word</th>\n",
       "      <th>cnt</th>\n",
       "      <th>err</th>\n",
       "      <th>poly</th>\n",
       "      <th>flex</th>\n",
       "      <th>score</th>\n",
       "    </tr>\n",
       "  </thead>\n",
       "  <tbody>\n",
       "    <tr>\n",
       "      <th>13</th>\n",
       "      <td>房地产开发有限公司</td>\n",
       "      <td>4346</td>\n",
       "      <td>0</td>\n",
       "      <td>0.992691</td>\n",
       "      <td>4.614287</td>\n",
       "      <td>4.580560</td>\n",
       "    </tr>\n",
       "    <tr>\n",
       "      <th>3</th>\n",
       "      <td>有限公司</td>\n",
       "      <td>84246</td>\n",
       "      <td>0</td>\n",
       "      <td>0.999941</td>\n",
       "      <td>3.932106</td>\n",
       "      <td>3.931873</td>\n",
       "    </tr>\n",
       "    <tr>\n",
       "      <th>17</th>\n",
       "      <td>科技有限公司</td>\n",
       "      <td>3990</td>\n",
       "      <td>0</td>\n",
       "      <td>0.999749</td>\n",
       "      <td>3.692177</td>\n",
       "      <td>3.691252</td>\n",
       "    </tr>\n",
       "    <tr>\n",
       "      <th>7</th>\n",
       "      <td>有限责任公司</td>\n",
       "      <td>5814</td>\n",
       "      <td>0</td>\n",
       "      <td>1.000000</td>\n",
       "      <td>3.572008</td>\n",
       "      <td>3.572008</td>\n",
       "    </tr>\n",
       "    <tr>\n",
       "      <th>20</th>\n",
       "      <td>厂</td>\n",
       "      <td>3143</td>\n",
       "      <td>0</td>\n",
       "      <td>1.000000</td>\n",
       "      <td>3.476868</td>\n",
       "      <td>3.476868</td>\n",
       "    </tr>\n",
       "  </tbody>\n",
       "</table>\n",
       "</div>"
      ],
      "text/plain": [
       "         word    cnt  err      poly      flex     score\n",
       "13  房地产开发有限公司   4346    0  0.992691  4.614287  4.580560\n",
       "3        有限公司  84246    0  0.999941  3.932106  3.931873\n",
       "17     科技有限公司   3990    0  0.999749  3.692177  3.691252\n",
       "7      有限责任公司   5814    0  1.000000  3.572008  3.572008\n",
       "20          厂   3143    0  1.000000  3.476868  3.476868"
      ]
     },
     "execution_count": 9,
     "metadata": {},
     "output_type": "execute_result"
    }
   ],
   "source": [
    "d1.head()"
   ]
  },
  {
   "cell_type": "code",
   "execution_count": 10,
   "metadata": {},
   "outputs": [],
   "source": [
    "t = trie.CharTrie()\n",
    "for _, row in d1.iterrows():\n",
    "    t[row['word'][::-1]] = row"
   ]
  },
  {
   "cell_type": "code",
   "execution_count": 11,
   "metadata": {},
   "outputs": [],
   "source": [
    "xm2 = defaultdict(lambda: defaultdict(int)) # 存储每个候选词的前缀集合\n",
    "for _, row in d1.iterrows():\n",
    "    rword = row['word'][::-1]\n",
    "    ret = t.prefixes(rword)\n",
    "    parent = None\n",
    "    maxlen = -1\n",
    "    for k, v in ret:\n",
    "        if k == rword: continue\n",
    "        if len(k) > maxlen:\n",
    "            maxlen = len(k)\n",
    "            parent = k[::-1]\n",
    "    if parent is not None:\n",
    "        xm2[parent][row['word']] += row['cnt']"
   ]
  },
  {
   "cell_type": "code",
   "execution_count": 12,
   "metadata": {},
   "outputs": [],
   "source": [
    "xdf = d1[d1['word'].isin(xm2)]"
   ]
  },
  {
   "cell_type": "code",
   "execution_count": 13,
   "metadata": {},
   "outputs": [],
   "source": [
    "def xflex(x):\n",
    "    if x['word'] not in xm2: return 1\n",
    "    s = pd.Series(xm2[x['word']])\n",
    "    return entropy(s / s.sum())"
   ]
  },
  {
   "cell_type": "code",
   "execution_count": 14,
   "metadata": {},
   "outputs": [],
   "source": [
    "pd.options.mode.chained_assignment = None  # default='warn', SettingWithCopyWarning\n",
    "xdf['xflex'] = xdf.apply(xflex, axis=1)"
   ]
  },
  {
   "cell_type": "code",
   "execution_count": 15,
   "metadata": {},
   "outputs": [
    {
     "data": {
      "text/html": [
       "<div>\n",
       "<style scoped>\n",
       "    .dataframe tbody tr th:only-of-type {\n",
       "        vertical-align: middle;\n",
       "    }\n",
       "\n",
       "    .dataframe tbody tr th {\n",
       "        vertical-align: top;\n",
       "    }\n",
       "\n",
       "    .dataframe thead th {\n",
       "        text-align: right;\n",
       "    }\n",
       "</style>\n",
       "<table border=\"1\" class=\"dataframe\">\n",
       "  <thead>\n",
       "    <tr style=\"text-align: right;\">\n",
       "      <th></th>\n",
       "      <th>word</th>\n",
       "      <th>cnt</th>\n",
       "      <th>err</th>\n",
       "      <th>poly</th>\n",
       "      <th>flex</th>\n",
       "      <th>score</th>\n",
       "      <th>xflex</th>\n",
       "    </tr>\n",
       "  </thead>\n",
       "  <tbody>\n",
       "    <tr>\n",
       "      <th>3</th>\n",
       "      <td>有限公司</td>\n",
       "      <td>84246</td>\n",
       "      <td>0</td>\n",
       "      <td>0.999941</td>\n",
       "      <td>3.932106</td>\n",
       "      <td>3.931873</td>\n",
       "      <td>3.579781</td>\n",
       "    </tr>\n",
       "    <tr>\n",
       "      <th>17</th>\n",
       "      <td>科技有限公司</td>\n",
       "      <td>3990</td>\n",
       "      <td>0</td>\n",
       "      <td>0.999749</td>\n",
       "      <td>3.692177</td>\n",
       "      <td>3.691252</td>\n",
       "      <td>1.266136</td>\n",
       "    </tr>\n",
       "    <tr>\n",
       "      <th>7</th>\n",
       "      <td>有限责任公司</td>\n",
       "      <td>5814</td>\n",
       "      <td>0</td>\n",
       "      <td>1.000000</td>\n",
       "      <td>3.572008</td>\n",
       "      <td>3.572008</td>\n",
       "      <td>1.504434</td>\n",
       "    </tr>\n",
       "    <tr>\n",
       "      <th>14</th>\n",
       "      <td>工程有限公司</td>\n",
       "      <td>4081</td>\n",
       "      <td>0</td>\n",
       "      <td>1.000000</td>\n",
       "      <td>2.640687</td>\n",
       "      <td>2.640687</td>\n",
       "      <td>1.417798</td>\n",
       "    </tr>\n",
       "    <tr>\n",
       "      <th>34</th>\n",
       "      <td>管理有限公司</td>\n",
       "      <td>2032</td>\n",
       "      <td>0</td>\n",
       "      <td>0.907548</td>\n",
       "      <td>2.178462</td>\n",
       "      <td>1.977059</td>\n",
       "      <td>1.348465</td>\n",
       "    </tr>\n",
       "  </tbody>\n",
       "</table>\n",
       "</div>"
      ],
      "text/plain": [
       "      word    cnt  err      poly      flex     score     xflex\n",
       "3     有限公司  84246    0  0.999941  3.932106  3.931873  3.579781\n",
       "17  科技有限公司   3990    0  0.999749  3.692177  3.691252  1.266136\n",
       "7   有限责任公司   5814    0  1.000000  3.572008  3.572008  1.504434\n",
       "14  工程有限公司   4081    0  1.000000  2.640687  2.640687  1.417798\n",
       "34  管理有限公司   2032    0  0.907548  2.178462  1.977059  1.348465"
      ]
     },
     "execution_count": 15,
     "metadata": {},
     "output_type": "execute_result"
    }
   ],
   "source": [
    "xdf[xdf['xflex']>1]"
   ]
  },
  {
   "cell_type": "code",
   "execution_count": null,
   "metadata": {},
   "outputs": [],
   "source": []
  }
 ],
 "metadata": {
  "kernelspec": {
   "display_name": "Python 3",
   "language": "python",
   "name": "python3"
  },
  "language_info": {
   "codemirror_mode": {
    "name": "ipython",
    "version": 3
   },
   "file_extension": ".py",
   "mimetype": "text/x-python",
   "name": "python",
   "nbconvert_exporter": "python",
   "pygments_lexer": "ipython3",
   "version": "3.6.5"
  }
 },
 "nbformat": 4,
 "nbformat_minor": 2
}
