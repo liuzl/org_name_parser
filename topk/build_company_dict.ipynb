{
 "cells": [
  {
   "cell_type": "code",
   "execution_count": 1,
   "metadata": {},
   "outputs": [],
   "source": [
    "!go get github.com/liuzl/d/cmd/txt2dict"
   ]
  },
  {
   "cell_type": "code",
   "execution_count": 2,
   "metadata": {},
   "outputs": [
    {
     "name": "stdout",
     "output_type": "stream",
     "text": [
      "Usage of txt2dict:\r\n",
      "  -dict_dir string\r\n",
      "    \tdir for dicts (default \"dicts\")\r\n",
      "  -dst string\r\n",
      "    \tdestination dir (default \"dict\")\r\n",
      "  -src string\r\n",
      "    \tdictionary source file (default \"dict.txt\")\r\n",
      "  -tag string\r\n",
      "    \tword type of this dict (default \"tag\")\r\n",
      "  -zlog_dir string\r\n",
      "    \tzerolog dir (default \"zerolog\")\r\n"
     ]
    }
   ],
   "source": [
    "!txt2dict --help"
   ]
  },
  {
   "cell_type": "code",
   "execution_count": 3,
   "metadata": {},
   "outputs": [
    {
     "name": "stdout",
     "output_type": "stream",
     "text": [
      " 103 / 103 [========================================================] 100.00% 0s\n",
      "done!\n",
      "../parse/dicts/company/cedar saving\n"
     ]
    }
   ],
   "source": [
    "!txt2dict -dict_dir ../parse/dicts -dst company -src scope.txt -tag company_scope"
   ]
  },
  {
   "cell_type": "code",
   "execution_count": 4,
   "metadata": {},
   "outputs": [
    {
     "name": "stdout",
     "output_type": "stream",
     "text": [
      "\r",
      " 0 / 72 [--------------------------------------------------------------]   0.00%\r",
      " 72 / 72 [==========================================================] 100.00% 0s\r\n",
      "done!\r\n",
      "../parse/dicts/company/cedar saving\r\n"
     ]
    }
   ],
   "source": [
    "!txt2dict -dict_dir ../parse/dicts -dst company -src type.txt -tag company_type"
   ]
  },
  {
   "cell_type": "code",
   "execution_count": null,
   "metadata": {},
   "outputs": [],
   "source": []
  }
 ],
 "metadata": {
  "kernelspec": {
   "display_name": "Python 3",
   "language": "python",
   "name": "python3"
  },
  "language_info": {
   "codemirror_mode": {
    "name": "ipython",
    "version": 3
   },
   "file_extension": ".py",
   "mimetype": "text/x-python",
   "name": "python",
   "nbconvert_exporter": "python",
   "pygments_lexer": "ipython3",
   "version": "3.6.5"
  }
 },
 "nbformat": 4,
 "nbformat_minor": 2
}
